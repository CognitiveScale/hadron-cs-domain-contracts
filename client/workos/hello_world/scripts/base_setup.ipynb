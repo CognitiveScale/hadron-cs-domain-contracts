{
 "cells": [
  {
   "cell_type": "markdown",
   "metadata": {},
   "source": [
    "## Base Scriptlets Notebook"
   ]
  },
  {
   "cell_type": "code",
   "execution_count": 1,
   "metadata": {},
   "outputs": [],
   "source": [
    "# set the project name\n",
    "project_name = 'workos'\n",
    "VERSION_SUFFIX = '_v06'"
   ]
  },
  {
   "cell_type": "code",
   "execution_count": 2,
   "metadata": {},
   "outputs": [],
   "source": [
    "# saves you having to use print as all exposed variables are printed in the cell\n",
    "from IPython.core.interactiveshell import InteractiveShell\n",
    "InteractiveShell.ast_node_interactivity = \"all\"\n",
    "\n",
    "# core libraries\n",
    "import numpy as np\n",
    "import pandas as pd\n",
    "import os\n",
    "from pathlib import Path\n",
    "import seaborn as sns\n",
    "\n",
    "# matpolitlib config\n",
    "%matplotlib inline\n",
    "\n",
    "# Pandas setup\n",
    "pd.set_option('max_colwidth', 200)\n",
    "pd.set_option('expand_frame_repr', True)\n",
    "\n",
    "# suppress warning message\n",
    "import warnings\n",
    "warnings.filterwarnings('ignore')\n"
   ]
  },
  {
   "cell_type": "code",
   "execution_count": 5,
   "metadata": {},
   "outputs": [
    {
     "name": "stdout",
     "output_type": "stream",
     "text": [
      "Foundation: 2.08.008\n",
      "Transition: 2.09.003\n",
      "Engines   : 2.02.001\n",
      "Behavioral: 2.03.001\n"
     ]
    }
   ],
   "source": [
    "%reload_ext autoreload\n",
    "%autoreload 2\n",
    "\n",
    "# for connectors\n",
    "from aistac.handlers.abstract_handlers import ConnectorContract\n",
    "\n",
    "# for ledger\n",
    "from ds_engines import Controller\n",
    "\n",
    "# for discovery, transition and feature cataloging\n",
    "from ds_discovery import Transition\n",
    "from ds_discovery import FeatureCatalog\n",
    "from ds_discovery.transition.commons import Commons\n",
    "from ds_discovery.transition.discovery import DataAnalytics\n",
    "\n",
    "# for portfolio management and frame building\n",
    "from ds_engines.components.event_book_portfolio import EventBookPortfolio\n",
    "\n",
    "# for simulation and behavioral synthetic datasets\n",
    "from ds_behavioral import SyntheticBuilder\n",
    "from ds_behavioral.sample.sample_data import *\n",
    "\n",
    "import ds_discovery\n",
    "import aistac\n",
    "import ds_engines\n",
    "import ds_behavioral\n",
    "print('Foundation: {}'.format(aistac.__version__))\n",
    "print('Transition: {}'.format(ds_discovery.__version__))\n",
    "print('Engines   : {}'.format(ds_engines.__version__))\n",
    "print('Behavioral: {}'.format(ds_behavioral.__version__))"
   ]
  },
  {
   "cell_type": "code",
   "execution_count": 3,
   "metadata": {},
   "outputs": [],
   "source": [
    "# clean out any old environments\n",
    "for key in os.environ.keys():\n",
    "    if key.startswith('HADRON'):\n",
    "        del os.environ[key]"
   ]
  },
  {
   "cell_type": "code",
   "execution_count": 7,
   "metadata": {},
   "outputs": [],
   "source": [
    "# set environment variables\n",
    "\n",
    "# NOTE: if running on windows, PWD doesn't exist so you need to manually set it\n",
    "# uncomment the line bleow and add your jupyter project root path\n",
    "# os.environ['PWD'] = Path('<<Your_Project_path>>').as_posix()\n",
    "\n",
    "if os.environ['USER'] == 'doatridge':\n",
    "    os.environ['HADRON_PM_PATH'] = Path('${PWD}', 'projects', project_name, 'contracts').as_posix()\n",
    "    os.environ['HADRON_DEFAULT_PATH'] = Path('${PWD}', 'projects', project_name, 'data', 'persist').as_posix()\n",
    "else:\n",
    "    # Assumes starting jupyter at the root of the bundle\n",
    "    os.environ['HADRON_PM_PATH'] = Path('${PWD}', 'contracts').as_posix()\n",
    "    os.environ['HADRON_DEFAULT_PATH'] = Path('${PWD}', 'data').as_posix()\n",
    "    \n",
    "os.environ['HADRON_PM_MODULE'] = 'ds_discovery.handlers.pandas_handlers'\n",
    "os.environ['HADRON_PM_SOURCE_HANDLER'] = 'PandasSourceHandler'\n",
    "os.environ['HADRON_PM_TYPE'] = 'json'\n",
    "\n",
    "os.environ['HADRON_DEFAULT_MODULE'] = 'ds_discovery.handlers.pandas_handlers'\n",
    "os.environ['HADRON_DEFAULT_SOURCE_HANDLER'] = 'PandasSourceHandler'\n",
    "os.environ['HADRON_DEFAULT_PERSIST_HANDLER'] = 'PandasPersistHandler'\n",
    "\n",
    "\n",
    "# S3\n",
    "\n",
    "# os.environ['HADRON_PM_PATH'] = f's3://aistac-discovery-persist/bundles/{project_name}/contracts'\n",
    "# os.environ['HADRON_PM_TYPE'] = 'json'\n",
    "\n",
    "# os.environ['HADRON_DEFAULT_PATH'] = 's3://aistac-discovery-persist/bundles/{project_name}/data/persist/'\n",
    "# os.environ['HADRON_DEFAULT_MODULE'] = 'ds_connectors.handlers.aws_s3_handlers'\n",
    "# os.environ['HADRON_DEFAULT_SOURCE_HANDLER'] = 'AwsS3SourceHandler'\n",
    "# os.environ['HADRON_DEFAULT_PERSIST_HANDLER'] = 'AwsS3PersistHandler'\n",
    "\n",
    "# os.environ['HADRON_TRANSITION_SOURCE_PATH'] = 's3://aistac-discovery-persist/bundles/{project_name}/data/raw/'\n"
   ]
  },
  {
   "cell_type": "code",
   "execution_count": null,
   "metadata": {},
   "outputs": [],
   "source": []
  }
 ],
 "metadata": {
  "kernelspec": {
   "display_name": "Python 3",
   "language": "python",
   "name": "python3"
  },
  "language_info": {
   "codemirror_mode": {
    "name": "ipython",
    "version": 3
   },
   "file_extension": ".py",
   "mimetype": "text/x-python",
   "name": "python",
   "nbconvert_exporter": "python",
   "pygments_lexer": "ipython3",
   "version": "3.7.7"
  }
 },
 "nbformat": 4,
 "nbformat_minor": 4
}
