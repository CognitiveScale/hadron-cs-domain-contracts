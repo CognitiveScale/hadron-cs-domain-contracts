{
 "cells": [
  {
   "cell_type": "code",
   "execution_count": 1,
   "metadata": {},
   "outputs": [
    {
     "name": "stdout",
     "output_type": "stream",
     "text": [
      "Foundation: 2.09.024\n",
      "Transition: 2.09.022\n",
      "Engines   : 2.03.015\n",
      "Behavioral: 2.04.016\n"
     ]
    }
   ],
   "source": [
    "%run ../base_setup.ipynb"
   ]
  },
  {
   "cell_type": "markdown",
   "metadata": {},
   "source": [
    "----------------------\n",
    "## Swarm Controller\n",
    "----------------------"
   ]
  },
  {
   "cell_type": "code",
   "execution_count": 2,
   "metadata": {},
   "outputs": [],
   "source": [
    "swarm = Controller.from_env(has_contract=False)"
   ]
  },
  {
   "cell_type": "code",
   "execution_count": 3,
   "metadata": {},
   "outputs": [],
   "source": [
    "swarm.pm.reset_all()\n",
    "swarm.reset_template_connectors()"
   ]
  },
  {
   "cell_type": "markdown",
   "metadata": {},
   "source": [
    "--------------------\n",
    "--------------------\n",
    "## Members Synthetic setup"
   ]
  },
  {
   "cell_type": "code",
   "execution_count": 4,
   "metadata": {},
   "outputs": [],
   "source": [
    "build_members = SyntheticBuilder.from_env('members', has_contract=False)"
   ]
  },
  {
   "cell_type": "code",
   "execution_count": 5,
   "metadata": {},
   "outputs": [],
   "source": [
    "build_members.pm.reset_all()\n",
    "build_members.reset_template_connectors()"
   ]
  },
  {
   "cell_type": "code",
   "execution_count": 6,
   "metadata": {},
   "outputs": [],
   "source": [
    "build_members.set_outcome(uri_file=build_members.pm.file_pattern(build_members.CONNECTOR_OUTCOME, name_suffix=VERSION_SUFFIX, file_type='pickle'))\n",
    "build_members.set_description(\"The foundation synthetic builder Members\")"
   ]
  },
  {
   "cell_type": "code",
   "execution_count": 7,
   "metadata": {
    "pycharm": {
     "name": "#%%\n"
    }
   },
   "outputs": [],
   "source": [
    "swarm.intent_model.activate_synthetic(task_name='members', size=10000)"
   ]
  },
  {
   "cell_type": "markdown",
   "metadata": {
    "pycharm": {
     "name": "#%% md\n"
    }
   },
   "source": [
    "--------------------\n",
    "##  Members Transaction setup"
   ]
  },
  {
   "cell_type": "code",
   "execution_count": 8,
   "metadata": {},
   "outputs": [],
   "source": [
    "tr_members = Transition.from_env('members', has_contract=False)"
   ]
  },
  {
   "cell_type": "code",
   "execution_count": 9,
   "metadata": {},
   "outputs": [],
   "source": [
    "tr_members.pm.reset_all()\n",
    "tr_members.reset_template_connectors()"
   ]
  },
  {
   "cell_type": "code",
   "execution_count": 10,
   "metadata": {},
   "outputs": [],
   "source": [
    "tr_members.set_source_uri(uri=build_members.get_outcome_contract().uri, template_aligned=True)\n",
    "tr_members.set_persist(uri_file=tr_members.pm.file_pattern(tr_members.CONNECTOR_PERSIST, name_suffix=VERSION_SUFFIX, file_type='csv'))\n",
    "tr_members.set_report_persist()"
   ]
  },
  {
   "cell_type": "code",
   "execution_count": 11,
   "metadata": {
    "pycharm": {
     "name": "#%%\n"
    }
   },
   "outputs": [],
   "source": [
    "tr_members.set_description(\"The descriptive reporting for the members synthetic data\")"
   ]
  },
  {
   "cell_type": "code",
   "execution_count": 12,
   "metadata": {},
   "outputs": [],
   "source": [
    "tr_members.set_provenance(title='Healthcare Members',\n",
    "                  domain='Healthcare', \n",
    "                  usage_license='Public Consuption',\n",
    "                  description=\"Members data for a healthcare provider\",\n",
    "                  provider_name='', \n",
    "                  provider_uri=\"\", \n",
    "                  provider_note=\"\",\n",
    "                  author_name='', \n",
    "                  author_uri='',)"
   ]
  },
  {
   "cell_type": "code",
   "execution_count": 13,
   "metadata": {},
   "outputs": [],
   "source": [
    "swarm.intent_model.activate_transition(canonical=pd.DataFrame(), task_name='members')"
   ]
  },
  {
   "cell_type": "markdown",
   "metadata": {},
   "source": [
    "--------------------\n",
    "--------------------\n",
    "## Risk Score Synthetic setup"
   ]
  },
  {
   "cell_type": "code",
   "execution_count": 14,
   "metadata": {},
   "outputs": [],
   "source": [
    "build_risk = SyntheticBuilder.from_env('risk_score', has_contract=False)"
   ]
  },
  {
   "cell_type": "code",
   "execution_count": 15,
   "metadata": {},
   "outputs": [],
   "source": [
    "build_risk.pm.reset_all()\n",
    "build_risk.reset_template_connectors()"
   ]
  },
  {
   "cell_type": "code",
   "execution_count": 16,
   "metadata": {},
   "outputs": [],
   "source": [
    "build_risk.set_source_uri(uri=build_members.get_outcome_contract().uri, template_aligned=True)\n",
    "build_risk.set_outcome(uri_file=build_risk.pm.file_pattern(build_risk.CONNECTOR_OUTCOME, name_suffix=VERSION_SUFFIX, file_type='pickle'))\n",
    "build_risk.set_description(\"The foundation synthetic Risk Score based from the members data\")"
   ]
  },
  {
   "cell_type": "code",
   "execution_count": 17,
   "metadata": {
    "pycharm": {
     "name": "#%%\n"
    }
   },
   "outputs": [],
   "source": [
    "swarm.intent_model.activate_synthetic(task_name='risk_score', size=10000)"
   ]
  },
  {
   "cell_type": "markdown",
   "metadata": {},
   "source": [
    "--------------------\n",
    "--------------------\n",
    "## Risk Score Temporal Simulator setup"
   ]
  },
  {
   "cell_type": "code",
   "execution_count": 18,
   "metadata": {},
   "outputs": [],
   "source": [
    "build_temporal = SyntheticBuilder.from_env('temporal_risk_score', has_contract=False)"
   ]
  },
  {
   "cell_type": "code",
   "execution_count": 19,
   "metadata": {},
   "outputs": [],
   "source": [
    "build_temporal.pm.reset_all()\n",
    "build_temporal.reset_template_connectors()"
   ]
  },
  {
   "cell_type": "code",
   "execution_count": 20,
   "metadata": {},
   "outputs": [],
   "source": [
    "build_temporal.set_source_uri(uri=build_risk.get_outcome_contract().uri, template_aligned=True)\n",
    "build_temporal.set_outcome(uri_file=build_temporal.pm.file_pattern(build_temporal.CONNECTOR_OUTCOME, name_suffix=VERSION_SUFFIX, file_type='pickle'))\n",
    "build_temporal.set_description(\"The temporal change to the base risk score\")"
   ]
  },
  {
   "cell_type": "code",
   "execution_count": 21,
   "metadata": {
    "pycharm": {
     "name": "#%%\n"
    }
   },
   "outputs": [],
   "source": [
    "swarm.intent_model.activate_synthetic(task_name='temporal_risk_score', size=10000)"
   ]
  },
  {
   "cell_type": "markdown",
   "metadata": {
    "pycharm": {
     "name": "#%% md\n"
    }
   },
   "source": [
    "--------------------\n",
    "##  Regional Temporal Simulator Transaction setup"
   ]
  },
  {
   "cell_type": "code",
   "execution_count": 22,
   "metadata": {},
   "outputs": [],
   "source": [
    "tr_region = Transition.from_env('region_risk_score', has_contract=False)"
   ]
  },
  {
   "cell_type": "code",
   "execution_count": 23,
   "metadata": {},
   "outputs": [],
   "source": [
    "tr_region.pm.reset_all()\n",
    "tr_region.reset_template_connectors()"
   ]
  },
  {
   "cell_type": "code",
   "execution_count": 24,
   "metadata": {},
   "outputs": [],
   "source": [
    "tr_region.set_source_uri(uri=build_temporal.get_outcome_contract().uri, template_aligned=True)\n",
    "tr_region.set_persist(uri_file=tr_region.pm.file_pattern(tr_region.CONNECTOR_PERSIST, name_suffix=VERSION_SUFFIX, file_type='csv'))\n",
    "tr_region.set_report_persist()"
   ]
  },
  {
   "cell_type": "code",
   "execution_count": 25,
   "metadata": {
    "pycharm": {
     "name": "#%%\n"
    }
   },
   "outputs": [],
   "source": [
    "tr_region.set_description(\"The risk-score over a week for the use case Regional Risk\")"
   ]
  },
  {
   "cell_type": "code",
   "execution_count": 26,
   "metadata": {},
   "outputs": [],
   "source": [
    "tr_region.set_provenance(title='Use Case: Regional Risk',\n",
    "                  domain='Healthcare', \n",
    "                  usage_license='Public Consuption',\n",
    "                  description=\"Flu Risk Score simulator for regional risk increase\",\n",
    "                  provider_name='', \n",
    "                  provider_uri=\"\", \n",
    "                  provider_note=\"\",\n",
    "                  author_name='', \n",
    "                  author_uri='',)"
   ]
  },
  {
   "cell_type": "code",
   "execution_count": 27,
   "metadata": {},
   "outputs": [],
   "source": [
    "swarm.intent_model.activate_transition(canonical=pd.DataFrame(), task_name='region_risk_score')"
   ]
  },
  {
   "cell_type": "markdown",
   "metadata": {
    "pycharm": {
     "name": "#%% md\n"
    }
   },
   "source": [
    "--------------------\n",
    "##  School Temporal Simulator Transaction setup"
   ]
  },
  {
   "cell_type": "code",
   "execution_count": 28,
   "metadata": {},
   "outputs": [],
   "source": [
    "tr_school = Transition.from_env('school_risk_score', has_contract=False)"
   ]
  },
  {
   "cell_type": "code",
   "execution_count": 29,
   "metadata": {},
   "outputs": [],
   "source": [
    "tr_school.pm.reset_all()\n",
    "tr_school.reset_template_connectors()"
   ]
  },
  {
   "cell_type": "code",
   "execution_count": 30,
   "metadata": {},
   "outputs": [],
   "source": [
    "tr_school.set_source_uri(uri=build_temporal.get_outcome_contract().uri, template_aligned=True)\n",
    "tr_school.set_persist(uri_file=tr_school.pm.file_pattern(tr_school.CONNECTOR_PERSIST, name_suffix=VERSION_SUFFIX, file_type='csv'))\n",
    "tr_school.set_report_persist()"
   ]
  },
  {
   "cell_type": "code",
   "execution_count": 31,
   "metadata": {
    "pycharm": {
     "name": "#%%\n"
    }
   },
   "outputs": [],
   "source": [
    "tr_school.set_description(\"The risk-score over a week for the use case Return to School\")"
   ]
  },
  {
   "cell_type": "code",
   "execution_count": 32,
   "metadata": {},
   "outputs": [],
   "source": [
    "tr_school.set_provenance(title='Temporal Flu Risk Score',\n",
    "                  domain='Healthcare', \n",
    "                  usage_license='Public Consuption',\n",
    "                  description=\"Flu Risk Score data for a healthcare provider\",\n",
    "                  provider_name='', \n",
    "                  provider_uri=\"\", \n",
    "                  provider_note=\"\",\n",
    "                  author_name='', \n",
    "                  author_uri='',)"
   ]
  },
  {
   "cell_type": "code",
   "execution_count": 33,
   "metadata": {},
   "outputs": [],
   "source": [
    "swarm.intent_model.activate_transition(canonical=pd.DataFrame(), task_name='school_risk_score')"
   ]
  },
  {
   "cell_type": "code",
   "execution_count": null,
   "metadata": {},
   "outputs": [],
   "source": []
  }
 ],
 "metadata": {
  "kernelspec": {
   "display_name": "Python 3",
   "language": "python",
   "name": "python3"
  },
  "language_info": {
   "codemirror_mode": {
    "name": "ipython",
    "version": 3
   },
   "file_extension": ".py",
   "mimetype": "text/x-python",
   "name": "python",
   "nbconvert_exporter": "python",
   "pygments_lexer": "ipython3",
   "version": "3.7.7"
  }
 },
 "nbformat": 4,
 "nbformat_minor": 4
}
